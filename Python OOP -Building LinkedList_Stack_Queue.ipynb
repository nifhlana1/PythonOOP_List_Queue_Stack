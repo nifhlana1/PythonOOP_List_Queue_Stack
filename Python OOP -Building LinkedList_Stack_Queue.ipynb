{
 "cells": [
  {
   "cell_type": "markdown",
   "id": "sealed-october",
   "metadata": {},
   "source": [
    "# 1.  Write a class called myLinkedList that implements the following singly linked list interface:\n",
    "\n",
    "add rst:  adding an element at the front\n",
    "\n",
    "addlast:  adding an element at the end\n",
    "\n",
    "remove rst:  removing a node at the front\n",
    "\n",
    "listtraversal:  every node in the list has been seen"
   ]
  },
  {
   "cell_type": "markdown",
   "id": "exterior-evidence",
   "metadata": {},
   "source": [
    "## Step 1: Creation of the nodes\n",
    "\n",
    "NODE STRUCTURE:\n",
    "\n",
    "\n",
    "\n",
    "|Head Node |     |  |  Regular Node | |   Last Node | | \n",
    "| --- | ---  | --- | --- |--- |--- |--- |\n",
    "| Data | Pointer • --->  |   | Data | Pointer • --->  | Data | Pointer • ---> <b>None</b> | "
   ]
  },
  {
   "cell_type": "code",
   "execution_count": 170,
   "id": "overhead-universal",
   "metadata": {},
   "outputs": [],
   "source": [
    "class Node:\n",
    "    \n",
    "    \"\"\"This is a class that creates a node for the linked list. \n",
    "    Each node will point to another node.\n",
    "    \n",
    "    We will set the default \"data\" as NaN, which can be used as a placeholder node by the user (for future update using its pointer)\n",
    "    We will also set the default \"next\" to None, which will only occur at the end of a linked list\n",
    "    \n",
    "    \"\"\"\n",
    "    \n",
    "    def __init__(self, data=\"NaN\"):\n",
    "        self.data = data\n",
    "        self.next = None\n",
    "        \n",
    "    #__repr__ for node. \n",
    "    def __repr__(self):\n",
    "        \"\"\"Returns a representation of the node data only (Without the pointer)\"\"\"\n",
    "        return f'Node({self.data})'\n",
    "        \n",
    "    #__Str_ for node/for use in print statements (more explanatory)\n",
    "    def __str__(self):\n",
    "        string_rep = str(f'| {self.data} | -- points to -- > {self.next}')\n",
    "        #return f'| {self.data} | -- points to -- > {self.next}'\n",
    "        return string_rep\n",
    "    \n",
    "    \n",
    "\n",
    "        "
   ]
  },
  {
   "cell_type": "markdown",
   "id": "virgin-remove",
   "metadata": {},
   "source": [
    "Testing the creation of a node with no inputs:\n",
    "\n",
    "-'Nan' is passed as a default value, which permits the user to create a linkedlist with placeholder values. As there is no 'next' passed in, and this is the last node, it will point to 'None'"
   ]
  },
  {
   "cell_type": "code",
   "execution_count": 172,
   "id": "faced-extra",
   "metadata": {},
   "outputs": [
    {
     "name": "stdout",
     "output_type": "stream",
     "text": [
      "| NaN | -- points to -- > None\n"
     ]
    }
   ],
   "source": [
    "first_node = Node()\n",
    "print(first_node)"
   ]
  },
  {
   "cell_type": "markdown",
   "id": "connected-marks",
   "metadata": {},
   "source": [
    "Now, we create several nodes. Note that these will not be passed a \"next\" value, so their default value will be set to 'None'\n"
   ]
  },
  {
   "cell_type": "code",
   "execution_count": 173,
   "id": "manufactured-label",
   "metadata": {},
   "outputs": [
    {
     "name": "stdout",
     "output_type": "stream",
     "text": [
      "| 1 | -- points to -- > None\n",
      "| 2 | -- points to -- > None\n",
      "| 3 | -- points to -- > None\n"
     ]
    }
   ],
   "source": [
    "node1 = Node(1) \n",
    "node2 = Node(2) \n",
    "node3 = Node(3)\n",
    "\n",
    "print (node1, node2, node3, sep='\\n')"
   ]
  },
  {
   "cell_type": "code",
   "execution_count": 174,
   "id": "cathedral-piano",
   "metadata": {},
   "outputs": [],
   "source": [
    "node10 = Node(10) \n",
    "node12 = Node(12) \n",
    "node13 = Node(13)"
   ]
  },
  {
   "cell_type": "markdown",
   "id": "creative-switch",
   "metadata": {},
   "source": [
    "As we see above, the nodes are not yet linked. Now, lets update their pointers:"
   ]
  },
  {
   "cell_type": "code",
   "execution_count": 175,
   "id": "printable-argentina",
   "metadata": {},
   "outputs": [],
   "source": [
    "node1.next=node2\n",
    "node2.next = node3"
   ]
  },
  {
   "cell_type": "code",
   "execution_count": 176,
   "id": "quiet-washer",
   "metadata": {},
   "outputs": [
    {
     "name": "stdout",
     "output_type": "stream",
     "text": [
      "| 1 | -- points to -- > | 2 | -- points to -- > | 3 | -- points to -- > None\n",
      "| 2 | -- points to -- > | 3 | -- points to -- > None\n",
      "| 3 | -- points to -- > None\n"
     ]
    }
   ],
   "source": [
    "print(node1, node2, node3, sep=\"\\n\")"
   ]
  },
  {
   "cell_type": "markdown",
   "id": "declared-melissa",
   "metadata": {},
   "source": [
    "Representations of the nodes (__str__ VS __repr__)"
   ]
  },
  {
   "cell_type": "code",
   "execution_count": 177,
   "id": "cross-awareness",
   "metadata": {},
   "outputs": [
    {
     "name": "stdout",
     "output_type": "stream",
     "text": [
      "| 1 | -- points to -- > | 2 | -- points to -- > | 3 | -- points to -- > None\n"
     ]
    }
   ],
   "source": [
    "print(node1)"
   ]
  },
  {
   "cell_type": "code",
   "execution_count": 178,
   "id": "plain-cargo",
   "metadata": {},
   "outputs": [
    {
     "name": "stdout",
     "output_type": "stream",
     "text": [
      "Node(1)\n"
     ]
    }
   ],
   "source": [
    "print(repr(node1))"
   ]
  },
  {
   "cell_type": "markdown",
   "id": "assured-australian",
   "metadata": {},
   "source": [
    "## Step 2: Creation of the class 'LinkedList'"
   ]
  },
  {
   "cell_type": "code",
   "execution_count": 179,
   "id": "little-linux",
   "metadata": {},
   "outputs": [],
   "source": [
    "class myLinkedList:\n",
    "    \n",
    "    def __init__(self,head_node=None):\n",
    "        \n",
    "        \"\"\"Set default head to 'None' (This will be the case for an empty list).\n",
    "            As we have already set the next values and node creations in the Node class,\n",
    "            the only data that the linked list will need to store will be the head pointer.\n",
    "            \n",
    "            Set the default value to 'None'. This will be the case for a linked list \n",
    "            that does not yet have any nodes (i.e any data)\"\"\"\n",
    "\n",
    "        self.head = head_node\n",
    "        #Default value of None \n",
    "        self.next = None\n",
    "        #Add a self.last to so time complexity of removal from end is o(1)\n",
    "        self.last = None\n",
    "        \n",
    "    def __repr__(self):\n",
    "        \"\"\"Returns a representation of the Linked list, by traversing it)\"\"\"\n",
    "        node = self.head\n",
    "        rep=\"\"\n",
    "        if node == None:\n",
    "            rep += \"LinkedList()\"\n",
    "            return rep\n",
    "        \n",
    "        elif node.next == None:\n",
    "            rep += \"LinkedList(\"\n",
    "            rep += str(f'{node.data}')\n",
    "            rep += \")\"\n",
    "            return rep\n",
    "        \n",
    "        while node.next != None:\n",
    "            rep += \"LinkedList(\"\n",
    "            rep += str(f'{node.data},{node.next}') \n",
    "            node = node.next\n",
    "        rep += \")\"\n",
    "            \n",
    "        \n",
    "        return rep\n",
    "        \n",
    "        \n",
    "            \n",
    "    def __str__(self):\n",
    "        \"\"\"Returns a representation of the Linked list, by traversing it)\"\"\"\n",
    "        node = self.head\n",
    "        if node == None:\n",
    "            return \"[]\"\n",
    "        \n",
    "        elif node.next == None:\n",
    "            string_rep = \"\"\n",
    "            string_rep += str(f'[{node.data}]')\n",
    "            return string_rep\n",
    "        \n",
    "        while node.next != None:\n",
    "            string_rep = \"\"\n",
    "            string_rep += str(f'|{node.data} | -- points to -- > {node.next}') \n",
    "            node = node.next\n",
    "        return string_rep\n",
    "\n",
    "\n",
    "\n",
    "    \n",
    "    def add_first(self,node):\n",
    "        \n",
    "        \"\"\"o(1)\n",
    "        Insert new element at head of list. \n",
    "        To do this, a node object will need created previously.\n",
    "        \n",
    "        This function will set the 'head' pointer of the linked list\n",
    "        to the node that is passed in.\n",
    "        \n",
    "        In the case that the list had a previous head, the node passed in\n",
    "        will now point to the previous head node.\"\"\"\n",
    "        \n",
    "        if self.head!= None:\n",
    "        #Set the pointer of the node passed in, to the previous head\n",
    "            node.next = self.head\n",
    "        #Now, set the 'head' pointer to the node passed in\n",
    "        self.head = node\n",
    "        #It will also be the last node\n",
    "        self.last = node\n",
    "        \n",
    "        \n",
    "        \n",
    "    def add_last(self, node_in):\n",
    "        \n",
    "        \"\"\"o(1)\n",
    "        Insert new element at end of list. \n",
    "        To do this, a node object will need created previously.\n",
    "        \n",
    "        This function will traverse the list and add a new node at the end.\n",
    "        \n",
    "        If this is also the first item in the linked list, it will also set the \n",
    "        head pointer to the node passed in\"\"\"\n",
    "        \n",
    "        #if linked list empty: adding an element will add it to the front and  back(as only one element)\n",
    "        #update head and last\n",
    "        if self.last == None:\n",
    "            self.head = node_in\n",
    "            self.last = node_in\n",
    "            self.head.next=None\n",
    "            self.last.next = None\n",
    "            \n",
    "        #If elements in the list\n",
    "        #Update self.last to new node\n",
    "        #Old last will point to new last\n",
    "        else:\n",
    "            old_last = self.last\n",
    "            self.last = node_in\n",
    "            old_last.next = self.last\n",
    "\n",
    "            \n",
    "    def remove_first(self):\n",
    "       \n",
    "        \"\"\"O(1)\n",
    "            This function removes a node at the beginning of a list \n",
    "            \n",
    "            It does this by updating the head pointer to the second node in the\n",
    "            list (and not updating any pointers to place the previous head into the \n",
    "            linked list. By default it is popped out.\n",
    "            \n",
    "            The node still exists in memory (cleaned by garbage collector), \n",
    "            but it does not point to any other node.\"\"\"\n",
    "        \n",
    "        old_head = self.head\n",
    "        #new head:\n",
    "        self.head = self.head.next\n",
    "        old_head.next = None\n",
    "        \n",
    "        \n",
    "    def list_traversal(self):\n",
    "        \n",
    "        \"\"\"o(n)\n",
    "        This function traverses every item in the list.\n",
    "        \n",
    "        While there the node points to another node, keep printing out the\n",
    "        data in each node. \n",
    "        \n",
    "        When we have reached the end of the list, print the last node\"\"\"\n",
    "        \n",
    "        start = self.head\n",
    "        \n",
    "        if start == None:\n",
    "            print(\"No elements seen\")\n",
    "        \n",
    "        else:\n",
    "        \n",
    "            while start.next != None:\n",
    "                print(\"Node \", start.data , \"seen.\")\n",
    "                start = start.next\n",
    "\n",
    "            if start.next == None:\n",
    "                print(\"Node \", start.data , \"seen.\")\n",
    "            \n",
    "            \n",
    "    "
   ]
  },
  {
   "cell_type": "markdown",
   "id": "familiar-malpractice",
   "metadata": {},
   "source": [
    "## Step 3: Creation of add_first() function"
   ]
  },
  {
   "cell_type": "markdown",
   "id": "spread-registrar",
   "metadata": {},
   "source": [
    "We had previously created some linked nodes (node1, node2, node3). However, we have not yet officially made these a 'linked list' as they do not yet have a 'head' pointer.\n",
    "\n",
    "Lets now create a linked list and set the head pointer to node1:"
   ]
  },
  {
   "cell_type": "code",
   "execution_count": 180,
   "id": "continued-communication",
   "metadata": {},
   "outputs": [],
   "source": [
    "node_100=Node(100)"
   ]
  },
  {
   "cell_type": "code",
   "execution_count": 181,
   "id": "broke-affiliate",
   "metadata": {},
   "outputs": [],
   "source": [
    "first_linked_list = myLinkedList(node_100)"
   ]
  },
  {
   "cell_type": "code",
   "execution_count": 182,
   "id": "industrial-yeast",
   "metadata": {},
   "outputs": [
    {
     "data": {
      "text/plain": [
       "Node(100)"
      ]
     },
     "execution_count": 182,
     "metadata": {},
     "output_type": "execute_result"
    }
   ],
   "source": [
    "first_linked_list.head"
   ]
  },
  {
   "cell_type": "code",
   "execution_count": 183,
   "id": "engaging-germany",
   "metadata": {},
   "outputs": [
    {
     "name": "stdout",
     "output_type": "stream",
     "text": [
      "[100]\n"
     ]
    }
   ],
   "source": [
    "print(first_linked_list)"
   ]
  },
  {
   "cell_type": "code",
   "execution_count": 184,
   "id": "recovered-occupation",
   "metadata": {},
   "outputs": [
    {
     "name": "stdout",
     "output_type": "stream",
     "text": [
      "LinkedList(100)\n"
     ]
    }
   ],
   "source": [
    "print(repr(first_linked_list))"
   ]
  },
  {
   "cell_type": "markdown",
   "id": "soviet-speed",
   "metadata": {},
   "source": [
    "Now we test it if it updates correctly, when we pass a new head into a list that already has a head pointer:"
   ]
  },
  {
   "cell_type": "code",
   "execution_count": 185,
   "id": "pressed-clock",
   "metadata": {},
   "outputs": [],
   "source": [
    "node4=Node(4)"
   ]
  },
  {
   "cell_type": "code",
   "execution_count": 186,
   "id": "noble-gambling",
   "metadata": {},
   "outputs": [],
   "source": [
    "first_linked_list.add_first(node4)"
   ]
  },
  {
   "cell_type": "code",
   "execution_count": 187,
   "id": "authentic-underground",
   "metadata": {},
   "outputs": [
    {
     "name": "stdout",
     "output_type": "stream",
     "text": [
      "|4 | -- points to -- > | 100 | -- points to -- > None\n"
     ]
    }
   ],
   "source": [
    "print(first_linked_list)"
   ]
  },
  {
   "cell_type": "markdown",
   "id": "passing-pride",
   "metadata": {},
   "source": [
    "## Step 4: Creation of add_last() function"
   ]
  },
  {
   "cell_type": "markdown",
   "id": "crazy-effort",
   "metadata": {},
   "source": [
    "Now try adding a node at the end"
   ]
  },
  {
   "cell_type": "code",
   "execution_count": 188,
   "id": "annoying-pleasure",
   "metadata": {},
   "outputs": [],
   "source": [
    "#first we create the node\n",
    "\n",
    "node100 = Node(100)"
   ]
  },
  {
   "cell_type": "code",
   "execution_count": 189,
   "id": "judicial-boost",
   "metadata": {},
   "outputs": [
    {
     "name": "stdout",
     "output_type": "stream",
     "text": [
      "|4 | -- points to -- > | 100 | -- points to -- > None\n"
     ]
    }
   ],
   "source": [
    "#Now we add the node to the end\n",
    "\n",
    "first_linked_list.add_last(node100)\n",
    "\n",
    "print(first_linked_list)"
   ]
  },
  {
   "cell_type": "markdown",
   "id": "thermal-concert",
   "metadata": {},
   "source": [
    "## Step 5: Creation of remove_first() function"
   ]
  },
  {
   "cell_type": "markdown",
   "id": "binding-mother",
   "metadata": {},
   "source": [
    "Now we try to remove the first item in the linked lise (currently node 4) - see above for previous list\n"
   ]
  },
  {
   "cell_type": "code",
   "execution_count": 190,
   "id": "computational-adobe",
   "metadata": {},
   "outputs": [],
   "source": [
    "first_linked_list.remove_first()"
   ]
  },
  {
   "cell_type": "markdown",
   "id": "confused-great",
   "metadata": {},
   "source": [
    "We see that the element has been removed successfully"
   ]
  },
  {
   "cell_type": "code",
   "execution_count": 191,
   "id": "occupied-income",
   "metadata": {},
   "outputs": [
    {
     "name": "stdout",
     "output_type": "stream",
     "text": [
      "[100]\n"
     ]
    }
   ],
   "source": [
    "print(first_linked_list)"
   ]
  },
  {
   "cell_type": "markdown",
   "id": "timely-center",
   "metadata": {},
   "source": [
    "## Step 5: Creation of list_traversal() function"
   ]
  },
  {
   "cell_type": "markdown",
   "id": "commercial-silicon",
   "metadata": {},
   "source": [
    "A list with elements"
   ]
  },
  {
   "cell_type": "code",
   "execution_count": 192,
   "id": "spare-norfolk",
   "metadata": {},
   "outputs": [
    {
     "name": "stdout",
     "output_type": "stream",
     "text": [
      "Node  100 seen.\n"
     ]
    }
   ],
   "source": [
    "first_linked_list.list_traversal()"
   ]
  },
  {
   "cell_type": "code",
   "execution_count": 193,
   "id": "dedicated-major",
   "metadata": {},
   "outputs": [
    {
     "name": "stdout",
     "output_type": "stream",
     "text": [
      "Node  1001 seen.\n"
     ]
    }
   ],
   "source": [
    "node_test = Node(1001)\n",
    "\n",
    "\n",
    "\n",
    "only_one_item = myLinkedList(node_test)\n",
    "only_one_item.list_traversal() \n",
    "\n",
    "\n",
    "\n"
   ]
  },
  {
   "cell_type": "markdown",
   "id": "excessive-tobacco",
   "metadata": {},
   "source": [
    "An empty list:"
   ]
  },
  {
   "cell_type": "code",
   "execution_count": 194,
   "id": "qualified-fashion",
   "metadata": {},
   "outputs": [
    {
     "name": "stdout",
     "output_type": "stream",
     "text": [
      "No elements seen\n"
     ]
    }
   ],
   "source": [
    "empty_list_test = myLinkedList()\n",
    "empty_list_test.list_traversal()"
   ]
  },
  {
   "cell_type": "markdown",
   "id": "derived-observation",
   "metadata": {},
   "source": [
    "# Linked List Speed: Testing Time of operations as input Grows with a linked list\n",
    "\n",
    "\n",
    "We see below that, with a linked list, as the input size grows - the time complexity remains fairly constant (excluding overhead of setup). \n",
    "\n",
    "We test 'add_last' below, where we add an item to the end of the queue. This function is implemented using a 'rear' pointer, so it is not necessary to traverse the entire list.\n"
   ]
  },
  {
   "cell_type": "code",
   "execution_count": 197,
   "id": "ecological-contribution",
   "metadata": {},
   "outputs": [],
   "source": [
    "test_LinkedList = myLinkedList()\n",
    "test_LinkedList2 = myLinkedList()\n",
    "\n",
    "node100 = Node(100)\n",
    "\n",
    "#create 2 linked lists\n",
    "for i in range(1000):\n",
    "    test_LinkedList.add_last(node100)\n",
    "    \n",
    "for i in range(10000000):\n",
    "    test_LinkedList2.add_last(node100)"
   ]
  },
  {
   "cell_type": "code",
   "execution_count": 198,
   "id": "familiar-height",
   "metadata": {},
   "outputs": [
    {
     "name": "stdout",
     "output_type": "stream",
     "text": [
      "Time to add last in linked list with 1000 items: 205900\n",
      "Time to add last in linked list with 10000000: 173800\n"
     ]
    }
   ],
   "source": [
    "import time\n",
    "from time import perf_counter_ns\n",
    "\n",
    "    \n",
    "##Insert an element at last index - 1000 items in linked list\n",
    "t1_start = time.perf_counter_ns()\n",
    "test_LinkedList.add_last(node100)\n",
    "t1_end = time.perf_counter_ns()\n",
    "\n",
    "elapsed = t1_end-t1_start\n",
    "print(\"Time to add last in linked list with 1000 items:\", elapsed)\n",
    "\n",
    "\n",
    "\n",
    "\n",
    "##Insert an element at last index - 100000 items in linked list\n",
    "t1_start = time.perf_counter_ns()\n",
    "test_LinkedList2.add_last(node100)\n",
    "t1_end = time.perf_counter_ns()\n",
    "\n",
    "elapsed2 = t1_end-t1_start\n",
    "print(\"Time to add last in linked list with 10000000:\", elapsed2)\n",
    "\n",
    "\n",
    "times=[elapsed,elapsed2]\n",
    "inputs=[10000000]"
   ]
  },
  {
   "cell_type": "markdown",
   "id": "angry-election",
   "metadata": {},
   "source": [
    "As we can see, the time to add an item first and last in the list is fairly similar - even as the list length increases massively. (In some runs you will notice that the smaller list actually takes slightly longer, which I assume is related to overhead of the perfect counter timer setup)"
   ]
  },
  {
   "cell_type": "markdown",
   "id": "piano-alfred",
   "metadata": {},
   "source": [
    "# 2. Define in your own words the terms:  stack ADT and queueADT. List the key operations and support operations commonly associated with these ADTs.  For each ADT, givetwo real world data examples and explain them brie y"
   ]
  },
  {
   "cell_type": "markdown",
   "id": "advisory-tender",
   "metadata": {},
   "source": [
    "### Stack abstract data type\n",
    "\n",
    "A stack is an abstract data type that behaves according to <b>LIFO - last in first out.</b> \n",
    "New additions to the stack are added on top of the previous elements/\n",
    "\n",
    "Common operations: \n",
    "- push\n",
    "- pop\n",
    "- peek\n",
    "- empty\n",
    "- size\n",
    "\n",
    "| Stack operation | Explanation |\n",
    "| --- | --- | \n",
    "| Stack () | Creates a new empty stack. No parameters needed (Returns an empty one)  | \n",
    "| push(element) | Adds a new element to the top of a stack. No return value.  |\n",
    "| pop() | Removes the element at the top of the stack. Returns the item that has been popped |\n",
    "| peek() | Shows the element at the top of the stack (does not alter it). Returns element. |\n",
    "| isEmpty() | Returns True if stack is empty. False if not. |\n",
    "| Size() | Returns count of the items in the stack. Returns an int value.|\n",
    "\n",
    "\n",
    "\n",
    "\n",
    "Real world example: \n",
    "-The back button on a browser. When a new webpage is displayed, it will be pushed onto the stack. If a user wishes to navigate back to the previous page, the previous page can be popped out of the stack.\n",
    "-Recursive functions. The call stack in memory stores thousands of functions. When a function is called, memory will be pushed onto the call stack in order for the function to execute. When complete, the memory will be pushed back on . "
   ]
  },
  {
   "cell_type": "markdown",
   "id": "discrete-annual",
   "metadata": {},
   "source": [
    "# PART 2"
   ]
  },
  {
   "cell_type": "markdown",
   "id": "thirty-judgment",
   "metadata": {},
   "source": [
    "## 1) Adopt the ADT concepts of Part I (task 2) to provide a complete implementation of a stack ADT"
   ]
  },
  {
   "cell_type": "code",
   "execution_count": 199,
   "id": "floppy-rings",
   "metadata": {},
   "outputs": [],
   "source": [
    "class Stack:\n",
    "    \n",
    "    def __init__(self,head_node = None,):\n",
    "        \n",
    "        \"\"\"Set default head to 'None' (This will be the case for an empty stack).\n",
    "            As we have already set the next values and node creations in the Node class,\n",
    "            the only data that the stack will need to store will be the head pointer and tail (so that add\n",
    "            last can have o(1) time complexity.\n",
    "            \n",
    "            Set the default value to 'None'. This will be the case for a Stack \n",
    "            that does not yet have any nodes (i.e any data)\"\"\"\n",
    "\n",
    "        self.head = head_node\n",
    "        self.last = None\n",
    "        self.next = None\n",
    "        self.count = 0\n",
    "        \n",
    "        \n",
    "    def __repr__(self):\n",
    "        \"\"\"Returns a representation of the Stack, by traversing it)\"\"\"\n",
    "        node = self.head\n",
    "        rep=\"\"\n",
    "        rep += \"Stack(\"\n",
    "        if node == None:\n",
    "            rep +=\")\"\n",
    "            return rep\n",
    "        \n",
    "        elif node.next == None:\n",
    "            rep += str(node.data)\n",
    "        \n",
    "        while node.next != None:\n",
    "            rep += str(node.data)+\",\"\n",
    "            node = node.next\n",
    "        rep += str(node.data)\n",
    "        rep += \")\"   \n",
    "        return rep\n",
    "    \n",
    "            \n",
    "    def __str__(self):\n",
    "        \"\"\"Returns a representation of the stack, by traversing it)\"\"\"\n",
    "        node = self.head\n",
    "        string_rep = \"\"\n",
    "        if node == None:\n",
    "            return \"| |\"\n",
    "        \n",
    "        elif node.next == None:\n",
    "            string_rep += \"|\"+str(node.data)+\"|\"\n",
    "        \n",
    "        else:\n",
    "            while node.next != None:\n",
    "                string_rep += \"|\"+str(node.data)+\"|\"+\"\\n\"\n",
    "                node = node.next\n",
    "            string_rep += \"|\"+str(node.data)+\"|\"\n",
    "        return string_rep\n",
    "        \n",
    "        \n",
    "        \n",
    "\n",
    "    \n",
    "    def push(self,node):\n",
    "        \n",
    "        \"\"\"O(1).Insert new element at head of stack. \n",
    "        To do this, a node object will need created previously.\n",
    "        \n",
    "        This function will set the 'head' pointer of the stack\n",
    "        to the node that is passed in.\n",
    "        \n",
    "        In the case that the list had a previous head, the node passed in\n",
    "        will now point to the previous head node.\"\"\"\n",
    "        #If item passed in is not a Node object = make it a node\n",
    "        if not isinstance(node, Node):\n",
    "            node = Node(node)\n",
    "            \n",
    "        #If there are no elements\n",
    "        if self.head is None:\n",
    "            #Set the new head/last to the node passed in\n",
    "            self.head=node\n",
    "            self.last = node\n",
    "            #Set the node's 'next' to None (any previous association deleted)\n",
    "            node.next = None\n",
    "            self.count+=1\n",
    "        \n",
    "        #If there is an element in the list:\n",
    "        elif self.head is not None:\n",
    "            temp_var = self.head\n",
    "            self.head=node\n",
    "            self.head.next=temp_var\n",
    "            self.count+=1\n",
    "\n",
    "       \n",
    "            \n",
    "                 \n",
    "    def add_last(self, node_in):\n",
    "        \n",
    "        \"\"\"o(1). Insert new element at end of stack. \n",
    "        To do this, a node object will need created previously.\n",
    "        \n",
    "        This function will traverse the stack and add a new node at the end.\n",
    "        \n",
    "        If this is also the first item in the stack, it will also set the \n",
    "        head pointer to the node passed in\"\"\"\n",
    "        \n",
    "        #If item passed in is not a Node object = make it a node\n",
    "        if not isinstance(node, Node):\n",
    "            node = Node(node)\n",
    "          \n",
    "        \n",
    "        #If list empty = set node_in to the last and head\n",
    "        if self.head == None:\n",
    "            self.head,self.last = node_in\n",
    "            self.head.next,self.last.next = None\n",
    "            self.count+=1\n",
    "            \n",
    "        #Else, if not empty, update the last node\n",
    "        #Set node in to last (And its next pointer to none)\n",
    "        #Set next value of old self.last to node_in\n",
    "        else:\n",
    "            old_last = self.last\n",
    "            self.last = node_in\n",
    "            self.last.next = None\n",
    "            old_last = self.last\n",
    "            self.count+=1\n",
    "        \n",
    "        \n",
    "                \n",
    "    def pop(self):\n",
    "       \n",
    "        \"\"\"This function pops a node from the beginning of a stack\n",
    "            \n",
    "            It does this by updating the head pointer to the second node in the\n",
    "            stack (and not updating any pointers to place the previous head into the \n",
    "            stack. By default it is popped out.\n",
    "            \n",
    "            The node still exists in memory, but it does not point to any other node\n",
    "            (picked up by garbage collector).\n",
    "            \n",
    "            return the element that has been popped\"\"\"\n",
    "        \n",
    "        \n",
    "        if self.head == None:\n",
    "            return \"Stack is empty\"\n",
    "        old_head = self.head\n",
    "        #new head:\n",
    "        self.head = self.head.next\n",
    "        old_head.next = None\n",
    "        #decrement count of elements in list\n",
    "        self.count-=1\n",
    "        \n",
    "        return old_head\n",
    "        \n",
    "        \n",
    "    def list_traversal(self):\n",
    "        \n",
    "        \"\"\"This function traverses every item in the stack.\n",
    "        \n",
    "        While there the node points to another node, keep printing out the\n",
    "        data in each node. \n",
    "        \n",
    "        When we have reached the end of the stack, print the last node\"\"\"\n",
    "        \n",
    "        start = self.head\n",
    "        \n",
    "        if start == None:\n",
    "            print(\"Empty Stack\")\n",
    "            \n",
    "        elif start.next == None:\n",
    "                print(\"Node \", start.data , \"seen.\")\n",
    "                \n",
    "        else:\n",
    "            #print first node, then the rest\n",
    "            while start.next != None:\n",
    "                print(\"Node \", start.data , \"seen.\")\n",
    "                start = start.next\n",
    "            print(\"Node \", start.data , \"seen.\")\n",
    "            \n",
    "            \n",
    "            \n",
    "    \n",
    "    def peek(self):\n",
    "        \n",
    "        \"\"\"o(1).Returns the element at the top of the stack without altering it\"\"\"\n",
    "        if self.head == None:\n",
    "            return \"Stack is empty\"\n",
    "        else:\n",
    "            return self.head.data\n",
    "            \n",
    "            \n",
    "    def isEmpty(self):\n",
    "        \"\"\"o(1)Returns True if stack is empty. False if not\"\"\"\n",
    "        if self.head == None:\n",
    "            return True\n",
    "        else:\n",
    "            return False\n",
    "        \n",
    "        \n",
    "    def Size(self):\n",
    "        \n",
    "        \"\"\"o(1)return self.count\"\"\"\n",
    "       \n",
    "        return self.count\n",
    "            \n",
    "    "
   ]
  },
  {
   "cell_type": "markdown",
   "id": "affecting-paste",
   "metadata": {},
   "source": [
    "### Creating the nodes for the stack "
   ]
  },
  {
   "cell_type": "code",
   "execution_count": 200,
   "id": "thermal-legislature",
   "metadata": {},
   "outputs": [],
   "source": [
    "stack_node1 = Node(1) \n",
    "stack_node2 = Node(2) \n",
    "stack_node3 = Node(3)\n",
    "\n"
   ]
  },
  {
   "cell_type": "markdown",
   "id": "shared-guard",
   "metadata": {},
   "source": [
    "### Stack() = Creating a stack with one node"
   ]
  },
  {
   "cell_type": "code",
   "execution_count": 201,
   "id": "narrow-vessel",
   "metadata": {},
   "outputs": [
    {
     "name": "stdout",
     "output_type": "stream",
     "text": [
      "|1|\n",
      "Stack(11)\n"
     ]
    }
   ],
   "source": [
    "my_first_stack = Stack(stack_node1)\n",
    "print(my_first_stack)\n",
    "print(repr(my_first_stack))"
   ]
  },
  {
   "cell_type": "markdown",
   "id": "pregnant-nelson",
   "metadata": {},
   "source": [
    "### Stack() =  Creating an empty stack "
   ]
  },
  {
   "cell_type": "code",
   "execution_count": 202,
   "id": "executed-senior",
   "metadata": {},
   "outputs": [
    {
     "name": "stdout",
     "output_type": "stream",
     "text": [
      "| |\n"
     ]
    }
   ],
   "source": [
    "my_empty_stack = Stack()\n",
    "print(my_empty_stack)\n"
   ]
  },
  {
   "cell_type": "markdown",
   "id": "maritime-disease",
   "metadata": {},
   "source": [
    "### push() = Pushing three elements to the stack (remember LIFO (last in first out) = It should add element to the top of the stack)"
   ]
  },
  {
   "cell_type": "code",
   "execution_count": 203,
   "id": "retained-family",
   "metadata": {},
   "outputs": [
    {
     "name": "stdout",
     "output_type": "stream",
     "text": [
      "|3|\n",
      "|2|\n",
      "|1|\n"
     ]
    }
   ],
   "source": [
    "my_empty_stack.push(stack_node1)\n",
    "my_empty_stack.push(stack_node2)\n",
    "my_empty_stack.push(stack_node3)\n",
    "print(my_empty_stack)"
   ]
  },
  {
   "cell_type": "code",
   "execution_count": 204,
   "id": "smaller-halifax",
   "metadata": {},
   "outputs": [
    {
     "name": "stdout",
     "output_type": "stream",
     "text": [
      "|4|\n",
      "|3|\n",
      "|2|\n",
      "|1|\n"
     ]
    }
   ],
   "source": [
    "stack_node4 = Node(4)\n",
    "my_empty_stack.push(stack_node4)\n",
    "print(my_empty_stack)"
   ]
  },
  {
   "cell_type": "markdown",
   "id": "facial-essex",
   "metadata": {},
   "source": [
    "### pop() =  Remove element from the top of the stack:"
   ]
  },
  {
   "cell_type": "code",
   "execution_count": 205,
   "id": "clear-defendant",
   "metadata": {},
   "outputs": [
    {
     "name": "stdout",
     "output_type": "stream",
     "text": [
      "|3|\n",
      "|2|\n",
      "|1|\n"
     ]
    }
   ],
   "source": [
    "my_empty_stack.pop()\n",
    "print(my_empty_stack)"
   ]
  },
  {
   "cell_type": "markdown",
   "id": "internal-meaning",
   "metadata": {},
   "source": [
    "Now try to pop an element from an empty stack:"
   ]
  },
  {
   "cell_type": "code",
   "execution_count": 206,
   "id": "pleasant-connection",
   "metadata": {},
   "outputs": [
    {
     "name": "stdout",
     "output_type": "stream",
     "text": [
      "| |\n"
     ]
    }
   ],
   "source": [
    "my_empty_stack2 = Stack()\n",
    "print(my_empty_stack2)"
   ]
  },
  {
   "cell_type": "code",
   "execution_count": 207,
   "id": "persistent-bleeding",
   "metadata": {},
   "outputs": [
    {
     "data": {
      "text/plain": [
       "'Stack is empty'"
      ]
     },
     "execution_count": 207,
     "metadata": {},
     "output_type": "execute_result"
    }
   ],
   "source": [
    "my_empty_stack2.pop()"
   ]
  },
  {
   "cell_type": "markdown",
   "id": "valuable-imperial",
   "metadata": {},
   "source": [
    "## peek()  = Shows the element at the top of the stack"
   ]
  },
  {
   "cell_type": "code",
   "execution_count": 208,
   "id": "committed-voice",
   "metadata": {},
   "outputs": [
    {
     "data": {
      "text/plain": [
       "3"
      ]
     },
     "execution_count": 208,
     "metadata": {},
     "output_type": "execute_result"
    }
   ],
   "source": [
    "#Peek on a stack with elements\n",
    "my_empty_stack.peek()"
   ]
  },
  {
   "cell_type": "code",
   "execution_count": 209,
   "id": "theoretical-hostel",
   "metadata": {},
   "outputs": [
    {
     "data": {
      "text/plain": [
       "'Stack is empty'"
      ]
     },
     "execution_count": 209,
     "metadata": {},
     "output_type": "execute_result"
    }
   ],
   "source": [
    "#Peek on a stack with no elements\n",
    "my_empty_stack2.peek()"
   ]
  },
  {
   "cell_type": "markdown",
   "id": "nervous-ballot",
   "metadata": {},
   "source": [
    "## isEmpty()  = Returns True if stack is empty"
   ]
  },
  {
   "cell_type": "code",
   "execution_count": 210,
   "id": "southern-closer",
   "metadata": {},
   "outputs": [
    {
     "data": {
      "text/plain": [
       "True"
      ]
     },
     "execution_count": 210,
     "metadata": {},
     "output_type": "execute_result"
    }
   ],
   "source": [
    "#This stack is empty\n",
    "my_empty_stack2.isEmpty()"
   ]
  },
  {
   "cell_type": "code",
   "execution_count": 211,
   "id": "built-fabric",
   "metadata": {},
   "outputs": [
    {
     "data": {
      "text/plain": [
       "False"
      ]
     },
     "execution_count": 211,
     "metadata": {},
     "output_type": "execute_result"
    }
   ],
   "source": [
    "#This stack is not empty\n",
    "my_empty_stack.isEmpty()"
   ]
  },
  {
   "cell_type": "markdown",
   "id": "honest-appreciation",
   "metadata": {},
   "source": [
    "## Size() "
   ]
  },
  {
   "cell_type": "code",
   "execution_count": 212,
   "id": "seeing-height",
   "metadata": {},
   "outputs": [
    {
     "data": {
      "text/plain": [
       "0"
      ]
     },
     "execution_count": 212,
     "metadata": {},
     "output_type": "execute_result"
    }
   ],
   "source": [
    "#This stack is empty\n",
    "my_empty_stack2.Size()"
   ]
  },
  {
   "cell_type": "code",
   "execution_count": 213,
   "id": "continuing-calvin",
   "metadata": {},
   "outputs": [
    {
     "name": "stdout",
     "output_type": "stream",
     "text": [
      "|3|\n",
      "|2|\n",
      "|1|\n"
     ]
    },
    {
     "data": {
      "text/plain": [
       "3"
      ]
     },
     "execution_count": 213,
     "metadata": {},
     "output_type": "execute_result"
    }
   ],
   "source": [
    "#This stack is not empty\n",
    "print(my_empty_stack)\n",
    "my_empty_stack.Size()"
   ]
  },
  {
   "cell_type": "markdown",
   "id": "endangered-appearance",
   "metadata": {},
   "source": [
    "# 2) What values are returned during the following series of stack operations, if executed upon an initially empty stack S?push(5), push(3), pop(), push(2), push(8), pop(), pop(),push(9), push(1), pop(), push(7), push(6), pop(), pop(),push(4), pop(), and pop()"
   ]
  },
  {
   "cell_type": "code",
   "execution_count": 214,
   "id": "quarterly-principle",
   "metadata": {},
   "outputs": [],
   "source": [
    "S = Stack()"
   ]
  },
  {
   "cell_type": "code",
   "execution_count": 215,
   "id": "spectacular-certificate",
   "metadata": {},
   "outputs": [],
   "source": [
    "S.push(5)"
   ]
  },
  {
   "cell_type": "code",
   "execution_count": 216,
   "id": "spoken-penny",
   "metadata": {},
   "outputs": [
    {
     "name": "stdout",
     "output_type": "stream",
     "text": [
      "|5|\n"
     ]
    }
   ],
   "source": [
    "print(S)"
   ]
  },
  {
   "cell_type": "code",
   "execution_count": 217,
   "id": "gothic-swiss",
   "metadata": {},
   "outputs": [],
   "source": [
    "S.push(3)"
   ]
  },
  {
   "cell_type": "code",
   "execution_count": 218,
   "id": "finished-champagne",
   "metadata": {},
   "outputs": [
    {
     "data": {
      "text/plain": [
       "Node(3)"
      ]
     },
     "execution_count": 218,
     "metadata": {},
     "output_type": "execute_result"
    }
   ],
   "source": [
    "S.pop()"
   ]
  },
  {
   "cell_type": "code",
   "execution_count": 219,
   "id": "historical-break",
   "metadata": {},
   "outputs": [],
   "source": [
    "S.push(8)"
   ]
  },
  {
   "cell_type": "code",
   "execution_count": 220,
   "id": "direct-slovenia",
   "metadata": {},
   "outputs": [
    {
     "data": {
      "text/plain": [
       "Node(8)"
      ]
     },
     "execution_count": 220,
     "metadata": {},
     "output_type": "execute_result"
    }
   ],
   "source": [
    "S.pop()"
   ]
  },
  {
   "cell_type": "code",
   "execution_count": 221,
   "id": "distinguished-investing",
   "metadata": {},
   "outputs": [
    {
     "data": {
      "text/plain": [
       "Node(5)"
      ]
     },
     "execution_count": 221,
     "metadata": {},
     "output_type": "execute_result"
    }
   ],
   "source": [
    "S.pop()"
   ]
  },
  {
   "cell_type": "code",
   "execution_count": 222,
   "id": "approximate-teaching",
   "metadata": {},
   "outputs": [],
   "source": [
    "S.push(9)"
   ]
  },
  {
   "cell_type": "code",
   "execution_count": 223,
   "id": "following-pocket",
   "metadata": {},
   "outputs": [],
   "source": [
    "S.push(1)"
   ]
  },
  {
   "cell_type": "code",
   "execution_count": 224,
   "id": "introductory-saturday",
   "metadata": {},
   "outputs": [
    {
     "data": {
      "text/plain": [
       "Node(1)"
      ]
     },
     "execution_count": 224,
     "metadata": {},
     "output_type": "execute_result"
    }
   ],
   "source": [
    "S.pop()"
   ]
  },
  {
   "cell_type": "code",
   "execution_count": 225,
   "id": "psychological-cover",
   "metadata": {},
   "outputs": [],
   "source": [
    "S.push(7)"
   ]
  },
  {
   "cell_type": "code",
   "execution_count": 226,
   "id": "outdoor-performer",
   "metadata": {},
   "outputs": [],
   "source": [
    "S.push(6)"
   ]
  },
  {
   "cell_type": "code",
   "execution_count": 227,
   "id": "little-miami",
   "metadata": {},
   "outputs": [
    {
     "data": {
      "text/plain": [
       "Node(6)"
      ]
     },
     "execution_count": 227,
     "metadata": {},
     "output_type": "execute_result"
    }
   ],
   "source": [
    "S.pop()"
   ]
  },
  {
   "cell_type": "code",
   "execution_count": 228,
   "id": "attempted-giving",
   "metadata": {},
   "outputs": [
    {
     "data": {
      "text/plain": [
       "Node(7)"
      ]
     },
     "execution_count": 228,
     "metadata": {},
     "output_type": "execute_result"
    }
   ],
   "source": [
    "S.pop()"
   ]
  },
  {
   "cell_type": "code",
   "execution_count": 229,
   "id": "checked-drinking",
   "metadata": {},
   "outputs": [],
   "source": [
    "S.push(4)"
   ]
  },
  {
   "cell_type": "code",
   "execution_count": 230,
   "id": "protecting-donor",
   "metadata": {},
   "outputs": [
    {
     "data": {
      "text/plain": [
       "Node(4)"
      ]
     },
     "execution_count": 230,
     "metadata": {},
     "output_type": "execute_result"
    }
   ],
   "source": [
    "S.pop()"
   ]
  },
  {
   "cell_type": "code",
   "execution_count": 231,
   "id": "exact-hospital",
   "metadata": {},
   "outputs": [
    {
     "data": {
      "text/plain": [
       "Node(9)"
      ]
     },
     "execution_count": 231,
     "metadata": {},
     "output_type": "execute_result"
    }
   ],
   "source": [
    "S.pop()"
   ]
  },
  {
   "cell_type": "code",
   "execution_count": 232,
   "id": "compound-knife",
   "metadata": {},
   "outputs": [
    {
     "name": "stdout",
     "output_type": "stream",
     "text": [
      "| |\n"
     ]
    }
   ],
   "source": [
    "print(S)"
   ]
  },
  {
   "cell_type": "code",
   "execution_count": 233,
   "id": "clean-beijing",
   "metadata": {},
   "outputs": [
    {
     "name": "stdout",
     "output_type": "stream",
     "text": [
      "Empty Stack\n"
     ]
    }
   ],
   "source": [
    "S.list_traversal()"
   ]
  },
  {
   "cell_type": "code",
   "execution_count": 234,
   "id": "boxed-convert",
   "metadata": {},
   "outputs": [],
   "source": [
    "S.push(1)"
   ]
  },
  {
   "cell_type": "code",
   "execution_count": 235,
   "id": "departmental-chosen",
   "metadata": {},
   "outputs": [
    {
     "name": "stdout",
     "output_type": "stream",
     "text": [
      "Node  1 seen.\n"
     ]
    }
   ],
   "source": [
    "S.list_traversal()"
   ]
  },
  {
   "cell_type": "code",
   "execution_count": 236,
   "id": "expected-talent",
   "metadata": {},
   "outputs": [],
   "source": [
    "S.push(1)\n",
    "S.push(2)"
   ]
  },
  {
   "cell_type": "code",
   "execution_count": 237,
   "id": "smooth-phrase",
   "metadata": {},
   "outputs": [
    {
     "name": "stdout",
     "output_type": "stream",
     "text": [
      "Node  2 seen.\n",
      "Node  1 seen.\n",
      "Node  1 seen.\n"
     ]
    }
   ],
   "source": [
    "S.list_traversal()"
   ]
  },
  {
   "cell_type": "code",
   "execution_count": 238,
   "id": "vital-paris",
   "metadata": {},
   "outputs": [],
   "source": [
    "S.push(1)\n",
    "S.push(2)\n",
    "S.push(3)\n",
    "S.push(4)\n",
    "S.push(5)"
   ]
  },
  {
   "cell_type": "code",
   "execution_count": 239,
   "id": "sealed-index",
   "metadata": {},
   "outputs": [
    {
     "name": "stdout",
     "output_type": "stream",
     "text": [
      "Node  5 seen.\n",
      "Node  4 seen.\n",
      "Node  3 seen.\n",
      "Node  2 seen.\n",
      "Node  1 seen.\n",
      "Node  2 seen.\n",
      "Node  1 seen.\n",
      "Node  1 seen.\n"
     ]
    }
   ],
   "source": [
    "S.list_traversal()"
   ]
  },
  {
   "cell_type": "code",
   "execution_count": 240,
   "id": "convenient-powell",
   "metadata": {},
   "outputs": [
    {
     "data": {
      "text/plain": [
       "False"
      ]
     },
     "execution_count": 240,
     "metadata": {},
     "output_type": "execute_result"
    }
   ],
   "source": [
    "S.isEmpty()"
   ]
  },
  {
   "cell_type": "code",
   "execution_count": 241,
   "id": "secret-teens",
   "metadata": {},
   "outputs": [
    {
     "data": {
      "text/plain": [
       "5"
      ]
     },
     "execution_count": 241,
     "metadata": {},
     "output_type": "execute_result"
    }
   ],
   "source": [
    "S.peek()"
   ]
  },
  {
   "cell_type": "code",
   "execution_count": 242,
   "id": "stock-pencil",
   "metadata": {},
   "outputs": [
    {
     "data": {
      "text/plain": [
       "8"
      ]
     },
     "execution_count": 242,
     "metadata": {},
     "output_type": "execute_result"
    }
   ],
   "source": [
    "S.Size()"
   ]
  },
  {
   "cell_type": "code",
   "execution_count": 243,
   "id": "negative-salvation",
   "metadata": {},
   "outputs": [],
   "source": [
    "Empty=Stack()"
   ]
  },
  {
   "cell_type": "code",
   "execution_count": 244,
   "id": "comparable-quilt",
   "metadata": {},
   "outputs": [
    {
     "name": "stdout",
     "output_type": "stream",
     "text": [
      "None\n",
      "None\n"
     ]
    }
   ],
   "source": [
    "print(Empty.head)\n",
    "print(Empty.next)"
   ]
  },
  {
   "cell_type": "code",
   "execution_count": 245,
   "id": "blank-nation",
   "metadata": {},
   "outputs": [
    {
     "name": "stdout",
     "output_type": "stream",
     "text": [
      "Empty Stack\n"
     ]
    }
   ],
   "source": [
    "Empty.list_traversal()"
   ]
  },
  {
   "cell_type": "markdown",
   "id": "early-dairy",
   "metadata": {},
   "source": [
    "# 3) Suppose an initially empty stack S has executed a total of 35 push operations, 15 top operations, and 10 pop operations,3 of which raised Empty errors that were caught and ignored.What is the current size of S"
   ]
  },
  {
   "cell_type": "code",
   "execution_count": 246,
   "id": "likely-january",
   "metadata": {},
   "outputs": [],
   "source": [
    "#Create an empty stack\n",
    "Empty=Stack()"
   ]
  },
  {
   "cell_type": "code",
   "execution_count": 247,
   "id": "sealed-hobby",
   "metadata": {},
   "outputs": [],
   "source": [
    "#Create a node:\n",
    "#objs = [Node() for i in range(36)]\n",
    "test_node = Node(2)"
   ]
  },
  {
   "cell_type": "code",
   "execution_count": 248,
   "id": "heard-interim",
   "metadata": {},
   "outputs": [
    {
     "name": "stdout",
     "output_type": "stream",
     "text": [
      "['node1', 'node2', 'node3', 'node4', 'node5', 'node6', 'node7', 'node8', 'node9', 'node10', 'node11', 'node12', 'node13', 'node14', 'node15', 'node16', 'node17', 'node18', 'node19', 'node20', 'node21', 'node22', 'node23', 'node24', 'node25', 'node26', 'node27', 'node28', 'node29', 'node30', 'node31', 'node32', 'node33', 'node34', 'node35']\n"
     ]
    }
   ],
   "source": [
    "#Create names for the node variables\n",
    "string=\"\"\n",
    "node_names = [\"node\"+str(x) for x in range(1,36)]\n",
    "print(node_names)"
   ]
  },
  {
   "cell_type": "code",
   "execution_count": 249,
   "id": "violent-undergraduate",
   "metadata": {},
   "outputs": [],
   "source": [
    "#Create 35 nodes and push to the Empty Stack\n",
    "\n",
    "for indx,i in enumerate(node_names):\n",
    "    #Create nodes and pass in value of its index\n",
    "    i=Node(indx)\n",
    "    #Push it to the empty stack\n",
    "    Empty.push(i)\n",
    "    "
   ]
  },
  {
   "cell_type": "code",
   "execution_count": 250,
   "id": "outer-multiple",
   "metadata": {},
   "outputs": [
    {
     "name": "stdout",
     "output_type": "stream",
     "text": [
      "Node  34 seen.\n",
      "Node  33 seen.\n",
      "Node  32 seen.\n",
      "Node  31 seen.\n",
      "Node  30 seen.\n",
      "Node  29 seen.\n",
      "Node  28 seen.\n",
      "Node  27 seen.\n",
      "Node  26 seen.\n",
      "Node  25 seen.\n",
      "Node  24 seen.\n",
      "Node  23 seen.\n",
      "Node  22 seen.\n",
      "Node  21 seen.\n",
      "Node  20 seen.\n",
      "Node  19 seen.\n",
      "Node  18 seen.\n",
      "Node  17 seen.\n",
      "Node  16 seen.\n",
      "Node  15 seen.\n",
      "Node  14 seen.\n",
      "Node  13 seen.\n",
      "Node  12 seen.\n",
      "Node  11 seen.\n",
      "Node  10 seen.\n",
      "Node  9 seen.\n",
      "Node  8 seen.\n",
      "Node  7 seen.\n",
      "Node  6 seen.\n",
      "Node  5 seen.\n",
      "Node  4 seen.\n",
      "Node  3 seen.\n",
      "Node  2 seen.\n",
      "Node  1 seen.\n",
      "Node  0 seen.\n"
     ]
    }
   ],
   "source": [
    "#The list will have 35 nodes (including node0)\n",
    "\n",
    "Empty.list_traversal()"
   ]
  },
  {
   "cell_type": "code",
   "execution_count": 251,
   "id": "suitable-satellite",
   "metadata": {},
   "outputs": [
    {
     "data": {
      "text/plain": [
       "35"
      ]
     },
     "execution_count": 251,
     "metadata": {},
     "output_type": "execute_result"
    }
   ],
   "source": [
    "Empty.Size()"
   ]
  },
  {
   "cell_type": "markdown",
   "id": "consolidated-waterproof",
   "metadata": {},
   "source": [
    "# 15 top (note-using 'peek' in line with documentation) operations and 10 pop operations"
   ]
  },
  {
   "cell_type": "code",
   "execution_count": 252,
   "id": "sized-arrest",
   "metadata": {},
   "outputs": [
    {
     "name": "stdout",
     "output_type": "stream",
     "text": [
      "34\n",
      "34\n",
      "34\n",
      "34\n",
      "34\n",
      "34\n",
      "34\n",
      "34\n",
      "34\n",
      "34\n",
      "34\n",
      "34\n",
      "34\n",
      "34\n",
      "34\n"
     ]
    }
   ],
   "source": [
    "for i in range(15):\n",
    "    print(Empty.peek())\n",
    "    \n",
    "##We expect below to be the same value as we are not popping the item from the top"
   ]
  },
  {
   "cell_type": "code",
   "execution_count": 253,
   "id": "viral-engine",
   "metadata": {},
   "outputs": [
    {
     "name": "stdout",
     "output_type": "stream",
     "text": [
      "| 34 | -- points to -- > None\n",
      "| 33 | -- points to -- > None\n",
      "| 32 | -- points to -- > None\n",
      "| 31 | -- points to -- > None\n",
      "| 30 | -- points to -- > None\n",
      "| 29 | -- points to -- > None\n",
      "| 28 | -- points to -- > None\n",
      "| 27 | -- points to -- > None\n",
      "| 26 | -- points to -- > None\n",
      "| 25 | -- points to -- > None\n"
     ]
    }
   ],
   "source": [
    "#printing the values popped out\n",
    "\n",
    "for i in range(10):\n",
    "    print(Empty.pop())"
   ]
  },
  {
   "cell_type": "code",
   "execution_count": 254,
   "id": "compound-handy",
   "metadata": {},
   "outputs": [
    {
     "data": {
      "text/plain": [
       "25"
      ]
     },
     "execution_count": 254,
     "metadata": {},
     "output_type": "execute_result"
    }
   ],
   "source": [
    "Empty.Size()"
   ]
  },
  {
   "cell_type": "code",
   "execution_count": 255,
   "id": "developing-beaver",
   "metadata": {},
   "outputs": [
    {
     "name": "stdout",
     "output_type": "stream",
     "text": [
      "Showing the top of the list(peek) without removing - 15 times\n",
      "34\n",
      "34\n",
      "34\n",
      "34\n",
      "34\n",
      "34\n",
      "34\n",
      "34\n",
      "34\n",
      "34\n",
      "34\n",
      "34\n",
      "34\n",
      "34\n",
      "34\n",
      "Now popping out the nodes:\n",
      "| 34 | -- points to -- > None\n",
      "| 33 | -- points to -- > None\n",
      "| 32 | -- points to -- > None\n",
      "| 31 | -- points to -- > None\n",
      "| 30 | -- points to -- > None\n",
      "| 29 | -- points to -- > None\n",
      "| 28 | -- points to -- > None\n",
      "| 27 | -- points to -- > None\n",
      "| 26 | -- points to -- > None\n",
      "| 25 | -- points to -- > None\n"
     ]
    }
   ],
   "source": [
    "#NOW WE EXECUTE ABOVE MORE EFFICIENTLY WITHIN A FUNCTION\n",
    "\n",
    "def p2_question_2():\n",
    "    #Create an empty stack\n",
    "    Empty=Stack()\n",
    "    \n",
    "    #35 PUSH:\n",
    "    for indx,i in enumerate(node_names):\n",
    "        #Create nodes and pass in value of its index\n",
    "        i=Node(indx)\n",
    "        #Push it to the empty stack\n",
    "        Empty.push(i)\n",
    "        \n",
    "    #15 TOP\n",
    "    print(\"Showing the top of the list(peek) without removing - 15 times\")\n",
    "    for i in range(15):\n",
    "        print(Empty.peek())\n",
    "    \n",
    "    #10 POP\n",
    "    print(\"Now popping out the nodes:\")\n",
    "    for i in range(10):\n",
    "        print(Empty.pop())\n",
    "    \n",
    "    \n",
    "    \n",
    "p2_question_2()"
   ]
  },
  {
   "cell_type": "markdown",
   "id": "talented-tiger",
   "metadata": {},
   "source": [
    "# Part III:"
   ]
  },
  {
   "cell_type": "markdown",
   "id": "certain-boost",
   "metadata": {},
   "source": [
    "### Queue abstract data type\n",
    "\n",
    "Unlike a stack, the queue abstract data type behaves according to <b>FIFO - first in first out.</b>\n",
    "New additions to a queue are added at one end (rear) and removed at another end (front).\n",
    "\n",
    "Common operations: \n",
    "- Queue()\n",
    "- enqueue(item)\n",
    "- dequeue()\n",
    "- isEmpty()\n",
    "- size\n",
    "\n",
    "| Queue operation | Explanation |\n",
    "| --- | --- | \n",
    "| Queue () | Creates a new queue stack. No parameters needed (Returns an empty one)  | \n",
    "| enqueue(element) | o(1) Time complexity. Adds a new element to the rear of the queue. No return value.  |\n",
    "| dequeue() | o(1) Time complexity.Removes the element at the front of the queue. Returns the item that has been popped |\n",
    "| Front() | o(1) Time complexity. Shows the element at the front of the queue (does not alter it). Returns element. |\n",
    "| Rear() | o(1) Time complexity. Shows the element at the rear of the queue (does not alter it). Returns element. |\n",
    "| isEmpty() | o(1) Time complexity. Returns True if stack is empty. False if not. |\n",
    "| Size() | Returns count of the items in the stack. Returns an int value.|\n",
    "\n",
    "\n",
    "\n",
    "\n",
    "Real world example: \n",
    "- Inputs when a button is pressed on a game. If a button is pressed to quickly, it could cause a problem and only the first move is the only one executed. To fix this, we could enqueue all button presses as they come in.\n",
    "- To implement a queue in a Call centre phone system. (Queues hold people that call them in the order in which they called. First one in is the first to speak to a representative)\n",
    "\n"
   ]
  },
  {
   "cell_type": "markdown",
   "id": "atomic-arthur",
   "metadata": {},
   "source": [
    "# 1) Adopt the ADT concepts of Part I (task 2) to provide acomplete implementation of a queue ADT"
   ]
  },
  {
   "cell_type": "code",
   "execution_count": 256,
   "id": "another-windows",
   "metadata": {},
   "outputs": [],
   "source": [
    "class Queue:\n",
    "    \n",
    "    def __init__(self,head_node = None):\n",
    "        \n",
    "        \"\"\"Create a Queue - either with or without a node.\n",
    "        \n",
    "            Set default head to 'None' (This will be the case for an empty queue).\n",
    "            As we have already set the next values and node creations in the Node class,\n",
    "            the only data that the linked list will need to store will be the head pointer.\n",
    "            \n",
    "            Set the default value to 'None'. This will be the case for a linked list \n",
    "            that does not yet have any nodes (i.e any data)\"\"\"\n",
    "        if head_node == None:\n",
    "            self.head = None\n",
    "        else:\n",
    "            #Else create a node with the passed node\n",
    "            self.head = Node(head_node)\n",
    "        self.next = None\n",
    "        self.rear = self.head\n",
    "        self.count=0\n",
    "        if head_node !=None:\n",
    "            #If a node passed in, increment by 1\n",
    "            self.count +=1\n",
    "        \n",
    "    def __repr__(self):\n",
    "        \"\"\"Returns a repr of the queue, by traversing it)\"\"\"\n",
    "        \n",
    "        node = self.head\n",
    "        string_rep = \"Queue(\"\n",
    "        if node == None:\n",
    "            return \"Queue()\"\n",
    "        \n",
    "        elif node.next == None:\n",
    "            string_rep += str(node.data)\n",
    "        \n",
    "        while node.next != None:\n",
    "            string_rep += str(node.data)+\",\"\n",
    "            node = node.next\n",
    "        string_rep += str(node.data)\n",
    "            \n",
    "        string_rep += \")\"\n",
    "            \n",
    "        return string_rep\n",
    "            \n",
    "    def __str__(self):\n",
    "        \"\"\"Returns a representation of the queue, by traversing it)\"\"\"\n",
    "        node = self.head\n",
    "        string_rep = \"\"\n",
    "        if node == None:\n",
    "            return \"{}\"\n",
    "        \n",
    "        elif node.next == None:\n",
    "            string_rep += \"{\"+str(node.data)+\"}\"\n",
    "        \n",
    "        while node.next != None:\n",
    "            string_rep += \"{\"+str(node.data)+\"}\"+\"->\"\n",
    "            node = node.next\n",
    "        string_rep += \"{\"+str(node.data)+\"}\"\n",
    "            \n",
    "        return string_rep\n",
    "        \n",
    "            \n",
    "    \n",
    "        \n",
    "       \n",
    "        \n",
    "    def enqueue(self, node=None):\n",
    "        \n",
    "        \"\"\"Insert new element at end of the queue. \n",
    "        To do this, a node object will need created previously.\n",
    "        (Or else we will create a node object from the item passed in.)\n",
    "        \n",
    "        This function will add a new node at the end of a queue.\n",
    "        \n",
    "        If this node is the first item in the queue, it will be both the\n",
    "        head and the rear of the queue.\n",
    "        \n",
    "        Increments 'self.count' every time a node is added in.\"\"\"\n",
    "        \n",
    "        #If nothing passed in, raise an error\n",
    "        if node is None:\n",
    "            return print(\"Must pass a node to add to the queue\")\n",
    "                    \n",
    "        else:\n",
    "            \n",
    "            #If item passed in is not a Node object = make it a node\n",
    "            if not isinstance(node, Node):\n",
    "                node = Node(node)\n",
    "            \n",
    "            #If there is no node in the queue already - set the passed node as both \n",
    "            #head and rear pointer\n",
    "            if self.head is None:\n",
    "                self.head = node\n",
    "                self.rear = node\n",
    "                self.head.next = None\n",
    "                self.rear.next = None\n",
    "                self.count+=1\n",
    "               \n",
    "            #Else, if there are 1+ nodes in the queue\n",
    "            #Upate the rear pointer\n",
    "            else:\n",
    "                old_rear = self.rear\n",
    "                self.rear = node\n",
    "                old_rear.next = node\n",
    "                self.count+=1\n",
    "\n",
    "\n",
    "                \n",
    "    def dequeue(self):\n",
    "       \n",
    "        \"\"\"This function pops a node from the beginning of a list. \n",
    "            (A queue is FIFO - first in first out)\n",
    "            \n",
    "            It does this by updating the head pointer to the second node in the\n",
    "            list. By default it is popped out.\n",
    "            \n",
    "            The node object still exists in memory, \n",
    "            but it does not point to any other node.\n",
    "            Will be caught by the garbage collector.\n",
    "            \n",
    "            Decrement 'self.count' after an item is dequeued.\n",
    "            \n",
    "            return the element that has been popped\"\"\"\n",
    "        \n",
    "        \n",
    "        if self.head == None:\n",
    "            print(\"Stack is empty\") \n",
    "        #if queue not empty - update head pointer to\n",
    "        #the second item in the queue.\n",
    "        else:\n",
    "            old_head = self.head\n",
    "            #new head:\n",
    "            self.head = self.head.next\n",
    "            old_head.next = None\n",
    "            #decrement self.count\n",
    "            self.count-=1\n",
    "            return old_head\n",
    "        \n",
    "        \n",
    "    def queue_traversal(self):\n",
    "        \n",
    "        \"\"\"This function traverses every item in the queue.\n",
    "        \n",
    "        While the node points to another node, keep printing out the\n",
    "        data in each node. \n",
    "        \n",
    "        When we have reached the end of the list, print the last node\"\"\"\n",
    "        \n",
    "        start = self.head\n",
    "        \n",
    "        #If there is no head, the queue is empty\n",
    "        if start == None:\n",
    "            print(\"Empty Queue\")\n",
    "            \n",
    "        elif start.next == None:\n",
    "                print(\"Node \", start.data , \"seen.\")\n",
    "                \n",
    "        else:\n",
    "            #print all nodes in the lisst\n",
    "            while start.next != None:\n",
    "                print(\"Node \", start.data , \"seen.\")\n",
    "                start = start.next\n",
    "            print(\"Node \", start.data , \"seen.\")\n",
    "            \n",
    "    \n",
    "    def Front(self):\n",
    "        \n",
    "        \"\"\"Returns the element at the front of the queue without altering it\"\"\"\n",
    "        if self.head == None:\n",
    "            return \"Queue is empty\"\n",
    "        else:\n",
    "            return self.head.data\n",
    "        \n",
    "        \n",
    "    def Rear(self):\n",
    "        \n",
    "        \"\"\"Returns the element at the rear of the queue without altering it\"\"\"\n",
    "        if self.rear == None:\n",
    "            return \"Queue is empty\"\n",
    "        else:\n",
    "            return self.rear.data\n",
    "            \n",
    "            \n",
    "    def isEmpty(self):\n",
    "        \"\"\"Returns True if stack is empty.\n",
    "            The stack will be empty if the head is None.\n",
    "            \n",
    "            False if not.\"\"\"\n",
    "        if self.head == None:\n",
    "            return True\n",
    "        else:\n",
    "            return False\n",
    "        \n",
    "        \n",
    "    def Size(self):\n",
    "        \n",
    "        \"\"\"Returns value of self.count. o(1) operation\"\"\"\n",
    "\n",
    "        return self.count\n",
    "            \n",
    "    "
   ]
  },
  {
   "cell_type": "markdown",
   "id": "automated-client",
   "metadata": {},
   "source": [
    "# Example of unit test for Queue:\n",
    "\n",
    "As described in the introduction, I have included an example of one of my unit tests for the purpose of demonstrating an understanding of the topic.\n",
    "Similar unit tests were used for each of the classes, however given the breadth of examples I provide throughout the notebook I have chosen to include the Queue (for report length reasons) as it demonstrates the most complicated functionality of the code to date. The printed tests in all of the above classes cover similar tests (if you require an example of the unit tests for above, please contact me)."
   ]
  },
  {
   "cell_type": "code",
   "execution_count": 257,
   "id": "unable-lawyer",
   "metadata": {},
   "outputs": [
    {
     "name": "stderr",
     "output_type": "stream",
     "text": [
      "test_Front (__main__.TestQueue) ... ok\n",
      "test_Rear (__main__.TestQueue) ... ok\n",
      "test_create_empty_full (__main__.TestQueue) ... ok\n",
      "test_dequeue (__main__.TestQueue) ... ok\n",
      "test_enqueue (__main__.TestQueue) ... ok\n",
      "test_isEmpty (__main__.TestQueue) ... "
     ]
    },
    {
     "name": "stdout",
     "output_type": "stream",
     "text": [
      "Stack is empty\n",
      "Empty Queue\n",
      "Node  1 seen.\n",
      "Node  1 seen.\n",
      "Must pass a node to add to the queue\n"
     ]
    },
    {
     "name": "stderr",
     "output_type": "stream",
     "text": [
      "ok\n",
      "\n",
      "----------------------------------------------------------------------\n",
      "Ran 6 tests in 0.006s\n",
      "\n",
      "OK\n"
     ]
    },
    {
     "data": {
      "text/plain": [
       "<unittest.main.TestProgram at 0x1862494df48>"
      ]
     },
     "execution_count": 257,
     "metadata": {},
     "output_type": "execute_result"
    }
   ],
   "source": [
    "import unittest\n",
    "\n",
    "class TestQueue(unittest.TestCase):\n",
    "    \n",
    "    def test_create_empty_full(self):\n",
    "        queue_1 = Queue()\n",
    "        queue_2 = Queue(2)\n",
    "        \n",
    "        self.assertEqual(queue_1.head, None)\n",
    "        self.assertEqual(queue_1.next, None)\n",
    "        self.assertEqual(queue_1.rear, None)\n",
    "        self.assertEqual(queue_1.count, 0)\n",
    "        \n",
    "        self.assertEqual(queue_2.head.data, 2)\n",
    "        self.assertEqual(queue_2.next, None)\n",
    "        self.assertEqual(queue_2.rear.data, 2)\n",
    "        self.assertEqual(queue_2.count, 1)\n",
    "    \n",
    "\n",
    "    def test_enqueue(self):\n",
    "        #Insert into empty queue and then populated queue\n",
    "        queue_1 = Queue()\n",
    "        queue_2 = Queue(2)\n",
    "            \n",
    "        #Enqueue nothing to empty queue\n",
    "        queue_1.enqueue()\n",
    "            \n",
    "        self.assertEqual(queue_1.head, None)\n",
    "        self.assertEqual(queue_1.next, None)\n",
    "        self.assertEqual(queue_1.rear, None)\n",
    "        self.assertEqual(queue_1.count, 0)\n",
    "        \n",
    "        \n",
    "        #Enqueue number to empty queue\n",
    "        queue_1.enqueue(1)\n",
    "            \n",
    "        self.assertEqual(queue_1.head.data, 1)\n",
    "        self.assertEqual(queue_1.next, None)\n",
    "        self.assertEqual(queue_1.rear.data, 1)\n",
    "        self.assertEqual(queue_1.count, 1)\n",
    "        \n",
    "        \n",
    "        #Enqueue a number to a queue that is not empty\n",
    "        queue_1.enqueue(2)\n",
    "            \n",
    "        self.assertEqual(queue_1.head.data, 1)\n",
    "        self.assertEqual(queue_1.head.next.data, 2)\n",
    "        self.assertEqual(queue_1.rear.data, 2)\n",
    "        self.assertEqual(queue_1.count, 2)\n",
    "        \n",
    "        #Enqueue a number to a queue that has 2 elements already\n",
    "        queue_1.enqueue(3)\n",
    "            \n",
    "        self.assertEqual(queue_1.head.data, 1)\n",
    "        self.assertEqual(queue_1.head.next.data, 2)\n",
    "        self.assertEqual(queue_1.rear.data, 3)\n",
    "        self.assertEqual(queue_1.count, 3)\n",
    "            \n",
    "    \n",
    "    def test_dequeue(self):\n",
    "        \n",
    "        #Try to dequeue an empty queue\n",
    "        queue_1 = Queue()\n",
    "        queue_1.dequeue()\n",
    "        self.assertEqual(queue_1.head, None)\n",
    "        \n",
    "        #Try to dequeue a queue with one item\n",
    "        queue_2 = Queue()\n",
    "        queue_2.enqueue(2)\n",
    "        queue_2.dequeue()\n",
    "        self.assertEqual(queue_2.head, None)\n",
    "        \n",
    "        \n",
    "        #Try to dequeue a queue with 3 items\n",
    "        queue_3 = Queue(1)\n",
    "        queue_3.enqueue(2)\n",
    "        queue_3.enqueue(3)\n",
    "        queue_3.dequeue()\n",
    "        self.assertEqual(queue_3.head.data, 2)\n",
    "        self.assertEqual(queue_3.head.next.data, 3)\n",
    "        self.assertEqual(queue_3.rear.data, 3)\n",
    "        \n",
    "    \n",
    "#    def test_queue_traversal(self):\n",
    "        \n",
    "        #Traverse an empty queue\n",
    "        empty_queue = Queue()\n",
    "        empty_queue.queue_traversal()\n",
    "        self.assertEqual(empty_queue.head, None)        \n",
    "        \n",
    "        #Traverse a queue with one item\n",
    "        one_queue = Queue(1)\n",
    "        one_queue.queue_traversal()\n",
    "        \n",
    "        #Traverse a queue with multiple items\n",
    "        one_queue = Queue(1)\n",
    "        one_queue.queue_traversal()\n",
    "        \n",
    "    \n",
    "    def test_Front(self):\n",
    "        #Show front of an empty queue\n",
    "        queue_1 = Queue()\n",
    "        self.assertEqual(queue_1.Front(), \"Queue is empty\")\n",
    "        \n",
    "        #Show front of a queue with one item\n",
    "        queue_2 = Queue(2)\n",
    "        self.assertEqual(queue_2.Front(), 2)\n",
    "        #Ensure it's returning it and not popping it fron the head\n",
    "        self.assertEqual(queue_2.head.data, 2)\n",
    "        self.assertEqual(queue_2.rear.data, 2)\n",
    "        \n",
    "        #Show front of a queue with three items\n",
    "        queue_3 = Queue(1)\n",
    "        queue_3.enqueue(2)\n",
    "        queue_3.enqueue(3)\n",
    "        self.assertEqual(queue_3.Front(), 1)\n",
    "        \n",
    "    \n",
    "    def test_Rear(self):\n",
    "        #Show rear of an empty queue\n",
    "        queue_1 = Queue()\n",
    "        self.assertEqual(queue_1.Rear(), \"Queue is empty\")\n",
    "        \n",
    "        #Show rear of a queue with one item\n",
    "        queue_2 = Queue(2)\n",
    "        self.assertEqual(queue_2.Rear(), 2)\n",
    "        \n",
    "        #Show rear of a queue with three items\n",
    "        queue_3 = Queue(1)\n",
    "        queue_3.enqueue(2)\n",
    "        queue_3.enqueue(3)\n",
    "        self.assertEqual(queue_3.Rear(), 3)\n",
    "    \n",
    "    def test_isEmpty(self):\n",
    "        #Empty queue = True\n",
    "        queue_1 = Queue()\n",
    "        self.assertEqual(queue_1.isEmpty(), True)\n",
    "        \n",
    "        #Queue with one item = True\n",
    "        queue_2 = Queue(2)\n",
    "        self.assertEqual(queue_2.isEmpty(), False)\n",
    "        \n",
    "        #Queue with 3 items to start. then 3 dequeued (so empty)\n",
    "        queue_3 = Queue(1)\n",
    "        queue_3.enqueue(2)\n",
    "        queue_3.enqueue(3)\n",
    "        self.assertEqual(queue_3.isEmpty(), False)\n",
    "        queue_3.dequeue()\n",
    "        queue_3.dequeue()\n",
    "        queue_3.dequeue()\n",
    "        self.assertEqual(queue_3.isEmpty(), True)\n",
    "    \n",
    "    def Size(self):\n",
    "        \n",
    "        #Empty queue = True\n",
    "        queue_1 = Queue()\n",
    "        self.assertEqual(queue_1.Size(), 0)\n",
    "        \n",
    "        #Queue with one item = True\n",
    "        queue_2 = Queue(2)\n",
    "        self.assertEqual(queue_2.Size(), 1)\n",
    "        \n",
    "        #Queue with 3 items to start. then 3 dequeued (so empty)\n",
    "        queue_3 = Queue(1)\n",
    "        queue_3.enqueue(2)\n",
    "        queue_3.enqueue(3)\n",
    "        self.assertEqual(queue_3.Size(), 3)\n",
    "        \n",
    "        queue_3.dequeue()\n",
    "        queue_3.dequeue()\n",
    "        queue_3.dequeue()\n",
    "        self.assertEqual(queue_3.Size(), True)\n",
    "    \n",
    "\n",
    "unittest.main(argv=[''], verbosity=2, exit=False)  "
   ]
  },
  {
   "cell_type": "markdown",
   "id": "twelve-theory",
   "metadata": {},
   "source": [
    "# 2) What values are returned during the following sequence ofqueue operations, if executed on an initially empty queue Q?enqueue(5), enqueue(3), dequeue(), enqueue(2), enqueue(8),dequeue(), dequeue(), enqueue(9), enqueue(1), dequeue(),enqueue(7), enqueue(6), dequeue(), dequeue(), enqueue(4),dequeue(), dequeue().\n",
    "\n",
    "\n",
    "Answer below:\n",
    "\n",
    "\n"
   ]
  },
  {
   "cell_type": "code",
   "execution_count": 258,
   "id": "organic-arrest",
   "metadata": {},
   "outputs": [],
   "source": [
    "Q = Queue()"
   ]
  },
  {
   "cell_type": "code",
   "execution_count": 259,
   "id": "french-association",
   "metadata": {},
   "outputs": [],
   "source": [
    "Q.enqueue(5)\n"
   ]
  },
  {
   "cell_type": "code",
   "execution_count": 260,
   "id": "bibliographic-rehabilitation",
   "metadata": {},
   "outputs": [],
   "source": [
    "Q.enqueue(3)\n"
   ]
  },
  {
   "cell_type": "code",
   "execution_count": 261,
   "id": "cosmetic-election",
   "metadata": {},
   "outputs": [
    {
     "data": {
      "text/plain": [
       "Node(5)"
      ]
     },
     "execution_count": 261,
     "metadata": {},
     "output_type": "execute_result"
    }
   ],
   "source": [
    "Q.dequeue()"
   ]
  },
  {
   "cell_type": "code",
   "execution_count": 262,
   "id": "circular-alpha",
   "metadata": {},
   "outputs": [],
   "source": [
    "Q.enqueue(2)"
   ]
  },
  {
   "cell_type": "code",
   "execution_count": 263,
   "id": "criminal-shopper",
   "metadata": {},
   "outputs": [],
   "source": [
    "Q.enqueue(8)\n"
   ]
  },
  {
   "cell_type": "code",
   "execution_count": 264,
   "id": "anticipated-fight",
   "metadata": {},
   "outputs": [
    {
     "data": {
      "text/plain": [
       "Node(3)"
      ]
     },
     "execution_count": 264,
     "metadata": {},
     "output_type": "execute_result"
    }
   ],
   "source": [
    "Q.dequeue()"
   ]
  },
  {
   "cell_type": "code",
   "execution_count": 265,
   "id": "varied-buying",
   "metadata": {},
   "outputs": [
    {
     "data": {
      "text/plain": [
       "Node(2)"
      ]
     },
     "execution_count": 265,
     "metadata": {},
     "output_type": "execute_result"
    }
   ],
   "source": [
    "Q.dequeue()"
   ]
  },
  {
   "cell_type": "code",
   "execution_count": 266,
   "id": "scheduled-purple",
   "metadata": {},
   "outputs": [],
   "source": [
    "Q.enqueue(9)\n"
   ]
  },
  {
   "cell_type": "code",
   "execution_count": 267,
   "id": "genuine-graduate",
   "metadata": {},
   "outputs": [],
   "source": [
    "Q.enqueue(1)\n"
   ]
  },
  {
   "cell_type": "code",
   "execution_count": 268,
   "id": "informed-premises",
   "metadata": {},
   "outputs": [
    {
     "data": {
      "text/plain": [
       "Node(8)"
      ]
     },
     "execution_count": 268,
     "metadata": {},
     "output_type": "execute_result"
    }
   ],
   "source": [
    "Q.dequeue()"
   ]
  },
  {
   "cell_type": "code",
   "execution_count": 269,
   "id": "painful-youth",
   "metadata": {},
   "outputs": [],
   "source": [
    "Q.enqueue(7)\n"
   ]
  },
  {
   "cell_type": "code",
   "execution_count": 270,
   "id": "satellite-negotiation",
   "metadata": {},
   "outputs": [],
   "source": [
    "Q.enqueue(6)\n"
   ]
  },
  {
   "cell_type": "code",
   "execution_count": 271,
   "id": "adapted-gallery",
   "metadata": {},
   "outputs": [
    {
     "data": {
      "text/plain": [
       "Node(9)"
      ]
     },
     "execution_count": 271,
     "metadata": {},
     "output_type": "execute_result"
    }
   ],
   "source": [
    "Q.dequeue()"
   ]
  },
  {
   "cell_type": "code",
   "execution_count": 272,
   "id": "forward-wildlife",
   "metadata": {},
   "outputs": [
    {
     "data": {
      "text/plain": [
       "Node(1)"
      ]
     },
     "execution_count": 272,
     "metadata": {},
     "output_type": "execute_result"
    }
   ],
   "source": [
    "Q.dequeue()"
   ]
  },
  {
   "cell_type": "code",
   "execution_count": 273,
   "id": "alpine-berry",
   "metadata": {},
   "outputs": [],
   "source": [
    "Q.enqueue(4)\n"
   ]
  },
  {
   "cell_type": "code",
   "execution_count": 274,
   "id": "critical-karma",
   "metadata": {},
   "outputs": [
    {
     "data": {
      "text/plain": [
       "Node(7)"
      ]
     },
     "execution_count": 274,
     "metadata": {},
     "output_type": "execute_result"
    }
   ],
   "source": [
    "Q.dequeue()"
   ]
  },
  {
   "cell_type": "code",
   "execution_count": 275,
   "id": "wired-opportunity",
   "metadata": {},
   "outputs": [
    {
     "data": {
      "text/plain": [
       "Node(6)"
      ]
     },
     "execution_count": 275,
     "metadata": {},
     "output_type": "execute_result"
    }
   ],
   "source": [
    "Q.dequeue()"
   ]
  },
  {
   "cell_type": "markdown",
   "id": "danish-lease",
   "metadata": {},
   "source": [
    "Additional operations (all o(1) - except queue traversal/representations of the object):"
   ]
  },
  {
   "cell_type": "code",
   "execution_count": 276,
   "id": "macro-approach",
   "metadata": {},
   "outputs": [],
   "source": [
    "additional = Queue()"
   ]
  },
  {
   "cell_type": "code",
   "execution_count": 277,
   "id": "fatty-cemetery",
   "metadata": {},
   "outputs": [],
   "source": [
    "additional.enqueue(4)"
   ]
  },
  {
   "cell_type": "code",
   "execution_count": 278,
   "id": "polished-glory",
   "metadata": {},
   "outputs": [
    {
     "name": "stdout",
     "output_type": "stream",
     "text": [
      "Node  4 seen.\n"
     ]
    }
   ],
   "source": [
    "additional.queue_traversal()"
   ]
  },
  {
   "cell_type": "code",
   "execution_count": 279,
   "id": "authentic-barrel",
   "metadata": {},
   "outputs": [
    {
     "data": {
      "text/plain": [
       "1"
      ]
     },
     "execution_count": 279,
     "metadata": {},
     "output_type": "execute_result"
    }
   ],
   "source": [
    "additional.Size()"
   ]
  },
  {
   "cell_type": "code",
   "execution_count": 280,
   "id": "automotive-direction",
   "metadata": {},
   "outputs": [],
   "source": [
    "additional.enqueue(5)\n",
    "additional.enqueue(6)"
   ]
  },
  {
   "cell_type": "code",
   "execution_count": 281,
   "id": "aerial-phone",
   "metadata": {},
   "outputs": [
    {
     "data": {
      "text/plain": [
       "3"
      ]
     },
     "execution_count": 281,
     "metadata": {},
     "output_type": "execute_result"
    }
   ],
   "source": [
    "additional.Size()"
   ]
  },
  {
   "cell_type": "code",
   "execution_count": 282,
   "id": "adjacent-machinery",
   "metadata": {},
   "outputs": [
    {
     "name": "stdout",
     "output_type": "stream",
     "text": [
      "Node  4 seen.\n",
      "Node  5 seen.\n",
      "Node  6 seen.\n"
     ]
    }
   ],
   "source": [
    "additional.queue_traversal()"
   ]
  },
  {
   "cell_type": "code",
   "execution_count": 283,
   "id": "exact-traffic",
   "metadata": {},
   "outputs": [
    {
     "data": {
      "text/plain": [
       "4"
      ]
     },
     "execution_count": 283,
     "metadata": {},
     "output_type": "execute_result"
    }
   ],
   "source": [
    "additional.Front()"
   ]
  },
  {
   "cell_type": "code",
   "execution_count": 284,
   "id": "black-aquarium",
   "metadata": {},
   "outputs": [
    {
     "data": {
      "text/plain": [
       "False"
      ]
     },
     "execution_count": 284,
     "metadata": {},
     "output_type": "execute_result"
    }
   ],
   "source": [
    "additional.isEmpty()"
   ]
  },
  {
   "cell_type": "code",
   "execution_count": 285,
   "id": "viral-depth",
   "metadata": {},
   "outputs": [
    {
     "data": {
      "text/plain": [
       "6"
      ]
     },
     "execution_count": 285,
     "metadata": {},
     "output_type": "execute_result"
    }
   ],
   "source": [
    "additional.Rear()"
   ]
  },
  {
   "cell_type": "code",
   "execution_count": 286,
   "id": "frank-humor",
   "metadata": {},
   "outputs": [
    {
     "data": {
      "text/plain": [
       "3"
      ]
     },
     "execution_count": 286,
     "metadata": {},
     "output_type": "execute_result"
    }
   ],
   "source": [
    "additional.Size()"
   ]
  },
  {
   "cell_type": "markdown",
   "id": "directed-shooting",
   "metadata": {},
   "source": [
    "### String Representation of the queue"
   ]
  },
  {
   "cell_type": "code",
   "execution_count": 287,
   "id": "decimal-delicious",
   "metadata": {},
   "outputs": [
    {
     "name": "stdout",
     "output_type": "stream",
     "text": [
      "{4}->{5}->{6}\n"
     ]
    }
   ],
   "source": [
    "#String representation of the queue\n",
    "print(additional)"
   ]
  },
  {
   "cell_type": "markdown",
   "id": "sustained-version",
   "metadata": {},
   "source": [
    "### Repr of the queue (used for debugging - should be unambiguous):"
   ]
  },
  {
   "cell_type": "code",
   "execution_count": 288,
   "id": "continuous-exhaust",
   "metadata": {},
   "outputs": [
    {
     "name": "stdout",
     "output_type": "stream",
     "text": [
      "Queue(4,5,6)\n"
     ]
    }
   ],
   "source": [
    "#Repr of the queue\n",
    "print(repr(additional))"
   ]
  },
  {
   "cell_type": "markdown",
   "id": "burning-output",
   "metadata": {},
   "source": [
    "# 3) Suppose an initially empty queue Q has executed a total of 50 enqueue operations, 15 top operations, and 15 dequeue operations, 5 of which raised Empty errors that were caughtand ignored.  What is the current size of Q?"
   ]
  },
  {
   "cell_type": "code",
   "execution_count": 289,
   "id": "collected-keyboard",
   "metadata": {},
   "outputs": [
    {
     "name": "stdout",
     "output_type": "stream",
     "text": [
      "Answer is:  35\n"
     ]
    }
   ],
   "source": [
    "def question_3():\n",
    "    #Make an empty queue\n",
    "    examp = Queue()\n",
    "    \n",
    "    #50 Enqueue operations\n",
    "    for i in range(50):\n",
    "        examp.enqueue(1)\n",
    "    \n",
    "    #15 Top operations\n",
    "    for i in range(15):\n",
    "        examp.Front()\n",
    "    \n",
    "    #15 Dequeue operations\n",
    "    for i in range(15):\n",
    "        examp.dequeue()\n",
    "    \n",
    "    return examp.Size()\n",
    "    \n",
    "    \n",
    "#Call function   \n",
    "print(\"Answer is: \", question_3())"
   ]
  },
  {
   "cell_type": "markdown",
   "id": "informative-client",
   "metadata": {},
   "source": [
    "# Conclusion"
   ]
  },
  {
   "cell_type": "markdown",
   "id": "reasonable-words",
   "metadata": {},
   "source": [
    "In summary, we can see that using LinkedLists and certain implementations we can greatly reduce the time complexity of certain operations.\n",
    "\n",
    "In a regular list, a tail operationn without head/tail pointers would have o(n) time complexity.\n",
    "This is because we would have to traverse the entire list to get to the last element.\n",
    "With implementation of a tail pointer, we can go directly to the last element of the list - regardness of 'n'.\n",
    "As such, the time complexity is o(n).\n",
    "\n",
    "Likewise, by incrementing/decrementing a counter with each addition/removal from a stack/queue/array - returning the size will have a time complexity of o(1).\n",
    "Without such an implementation, we would need to traverse all elements in the list to count them - which would make the .Size() operation o(n) time complexity.\n",
    "\n",
    "It's clear that linked lists are an extremely important and impotent data structure that can massively improve the efficiency of a proagram as it is scaled. "
   ]
  }
 ],
 "metadata": {
  "kernelspec": {
   "display_name": "Python 3",
   "language": "python",
   "name": "python3"
  },
  "language_info": {
   "codemirror_mode": {
    "name": "ipython",
    "version": 3
   },
   "file_extension": ".py",
   "mimetype": "text/x-python",
   "name": "python",
   "nbconvert_exporter": "python",
   "pygments_lexer": "ipython3",
   "version": "3.7.9"
  }
 },
 "nbformat": 4,
 "nbformat_minor": 5
}
